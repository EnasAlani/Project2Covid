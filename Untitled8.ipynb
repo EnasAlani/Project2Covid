{
  "nbformat": 4,
  "nbformat_minor": 0,
  "metadata": {
    "colab": {
      "name": "Untitled8.ipynb",
      "provenance": []
    },
    "kernelspec": {
      "name": "python3",
      "display_name": "Python 3"
    },
    "language_info": {
      "name": "python"
    }
  },
  "cells": [
    {
      "cell_type": "code",
      "metadata": {
        "id": "ZJL59qAfRV1O"
      },
      "source": [
        "import pandas as pd\n",
        "import numpy as np\n",
        "from sklearn.pipeline import make_pipeline\n",
        "from sklearn.impute import SimpleImputer\n",
        "from sklearn.ensemble import RandomForestClassifier\n",
        "from sklearn.linear_model import LogisticRegression\n",
        "from sklearn.preprocessing import StandardScaler\n",
        "from sklearn.metrics import classification_report, roc_curve, plot_confusion_matrix, plot_roc_curve,roc_auc_score\n",
        "import matplotlib.pyplot as plt"
      ],
      "execution_count": null,
      "outputs": []
    },
    {
      "cell_type": "code",
      "metadata": {
        "colab": {
          "base_uri": "https://localhost:8080/",
          "height": 462
        },
        "id": "2KqmQ7EpRb0M",
        "outputId": "1c2d9140-1dd2-4ec9-9c6a-c6bb00fcf382"
      },
      "source": [
        "filepath = pd.read_csv('COVID-19_Cases__Tests__and_Deaths_by_ZIP_Code.csv')\n",
        "print(filepath.shape)\n",
        "filepath.head()"
      ],
      "execution_count": null,
      "outputs": [
        {
          "output_type": "stream",
          "name": "stdout",
          "text": [
            "(5220, 21)\n"
          ]
        },
        {
          "output_type": "execute_result",
          "data": {
            "text/html": [
              "<div>\n",
              "<style scoped>\n",
              "    .dataframe tbody tr th:only-of-type {\n",
              "        vertical-align: middle;\n",
              "    }\n",
              "\n",
              "    .dataframe tbody tr th {\n",
              "        vertical-align: top;\n",
              "    }\n",
              "\n",
              "    .dataframe thead th {\n",
              "        text-align: right;\n",
              "    }\n",
              "</style>\n",
              "<table border=\"1\" class=\"dataframe\">\n",
              "  <thead>\n",
              "    <tr style=\"text-align: right;\">\n",
              "      <th></th>\n",
              "      <th>ZIP Code</th>\n",
              "      <th>Week Number</th>\n",
              "      <th>Week Start</th>\n",
              "      <th>Week End</th>\n",
              "      <th>Cases - Weekly</th>\n",
              "      <th>Cases - Cumulative</th>\n",
              "      <th>Case Rate - Weekly</th>\n",
              "      <th>Case Rate - Cumulative</th>\n",
              "      <th>Tests - Weekly</th>\n",
              "      <th>Tests - Cumulative</th>\n",
              "      <th>Test Rate - Weekly</th>\n",
              "      <th>Test Rate - Cumulative</th>\n",
              "      <th>Percent Tested Positive - Weekly</th>\n",
              "      <th>Percent Tested Positive - Cumulative</th>\n",
              "      <th>Deaths - Weekly</th>\n",
              "      <th>Deaths - Cumulative</th>\n",
              "      <th>Death Rate - Weekly</th>\n",
              "      <th>Death Rate - Cumulative</th>\n",
              "      <th>Population</th>\n",
              "      <th>Row ID</th>\n",
              "      <th>ZIP Code Location</th>\n",
              "    </tr>\n",
              "  </thead>\n",
              "  <tbody>\n",
              "    <tr>\n",
              "      <th>0</th>\n",
              "      <td>60613</td>\n",
              "      <td>45</td>\n",
              "      <td>11/01/2020</td>\n",
              "      <td>11/07/2020</td>\n",
              "      <td>211.0</td>\n",
              "      <td>1527.0</td>\n",
              "      <td>421.0</td>\n",
              "      <td>3047.1</td>\n",
              "      <td>2389.0</td>\n",
              "      <td>31446</td>\n",
              "      <td>4767</td>\n",
              "      <td>62750.2</td>\n",
              "      <td>0.1</td>\n",
              "      <td>0.0</td>\n",
              "      <td>0</td>\n",
              "      <td>34</td>\n",
              "      <td>0.0</td>\n",
              "      <td>67.8</td>\n",
              "      <td>50113</td>\n",
              "      <td>60613-2020-45</td>\n",
              "      <td>POINT (-87.661343 41.953742)</td>\n",
              "    </tr>\n",
              "    <tr>\n",
              "      <th>1</th>\n",
              "      <td>60613</td>\n",
              "      <td>46</td>\n",
              "      <td>11/08/2020</td>\n",
              "      <td>11/14/2020</td>\n",
              "      <td>295.0</td>\n",
              "      <td>1822.0</td>\n",
              "      <td>589.0</td>\n",
              "      <td>3635.8</td>\n",
              "      <td>2726.0</td>\n",
              "      <td>34172</td>\n",
              "      <td>5440</td>\n",
              "      <td>68189.9</td>\n",
              "      <td>0.1</td>\n",
              "      <td>0.1</td>\n",
              "      <td>0</td>\n",
              "      <td>34</td>\n",
              "      <td>0.0</td>\n",
              "      <td>67.8</td>\n",
              "      <td>50113</td>\n",
              "      <td>60613-2020-46</td>\n",
              "      <td>POINT (-87.661343 41.953742)</td>\n",
              "    </tr>\n",
              "    <tr>\n",
              "      <th>2</th>\n",
              "      <td>60610</td>\n",
              "      <td>10</td>\n",
              "      <td>03/07/2021</td>\n",
              "      <td>03/13/2021</td>\n",
              "      <td>55.0</td>\n",
              "      <td>3015.0</td>\n",
              "      <td>141.0</td>\n",
              "      <td>7727.0</td>\n",
              "      <td>1623.0</td>\n",
              "      <td>57870</td>\n",
              "      <td>4160</td>\n",
              "      <td>148312.4</td>\n",
              "      <td>0.0</td>\n",
              "      <td>0.1</td>\n",
              "      <td>1</td>\n",
              "      <td>31</td>\n",
              "      <td>2.6</td>\n",
              "      <td>79.4</td>\n",
              "      <td>39019</td>\n",
              "      <td>60610-2021-10</td>\n",
              "      <td>POINT (-87.63581 41.90455)</td>\n",
              "    </tr>\n",
              "    <tr>\n",
              "      <th>3</th>\n",
              "      <td>60611</td>\n",
              "      <td>31</td>\n",
              "      <td>07/26/2020</td>\n",
              "      <td>08/01/2020</td>\n",
              "      <td>22.0</td>\n",
              "      <td>287.0</td>\n",
              "      <td>68.0</td>\n",
              "      <td>885.1</td>\n",
              "      <td>734.0</td>\n",
              "      <td>7930</td>\n",
              "      <td>2264</td>\n",
              "      <td>24455.7</td>\n",
              "      <td>0.0</td>\n",
              "      <td>0.0</td>\n",
              "      <td>0</td>\n",
              "      <td>3</td>\n",
              "      <td>0.0</td>\n",
              "      <td>9.3</td>\n",
              "      <td>32426</td>\n",
              "      <td>60611-2020-31</td>\n",
              "      <td>POINT (-87.620291 41.894734)</td>\n",
              "    </tr>\n",
              "    <tr>\n",
              "      <th>4</th>\n",
              "      <td>60612</td>\n",
              "      <td>17</td>\n",
              "      <td>04/19/2020</td>\n",
              "      <td>04/25/2020</td>\n",
              "      <td>79.0</td>\n",
              "      <td>349.0</td>\n",
              "      <td>230.0</td>\n",
              "      <td>1017.2</td>\n",
              "      <td>355.0</td>\n",
              "      <td>1443</td>\n",
              "      <td>1035</td>\n",
              "      <td>4205.6</td>\n",
              "      <td>0.3</td>\n",
              "      <td>0.3</td>\n",
              "      <td>1</td>\n",
              "      <td>11</td>\n",
              "      <td>2.9</td>\n",
              "      <td>32.1</td>\n",
              "      <td>34311</td>\n",
              "      <td>60612-2020-17</td>\n",
              "      <td>POINT (-87.687011 41.88004)</td>\n",
              "    </tr>\n",
              "  </tbody>\n",
              "</table>\n",
              "</div>"
            ],
            "text/plain": [
              "  ZIP Code  Week Number  ...         Row ID             ZIP Code Location\n",
              "0    60613           45  ...  60613-2020-45  POINT (-87.661343 41.953742)\n",
              "1    60613           46  ...  60613-2020-46  POINT (-87.661343 41.953742)\n",
              "2    60610           10  ...  60610-2021-10    POINT (-87.63581 41.90455)\n",
              "3    60611           31  ...  60611-2020-31  POINT (-87.620291 41.894734)\n",
              "4    60612           17  ...  60612-2020-17   POINT (-87.687011 41.88004)\n",
              "\n",
              "[5 rows x 21 columns]"
            ]
          },
          "metadata": {},
          "execution_count": 2
        }
      ]
    },
    {
      "cell_type": "code",
      "metadata": {
        "id": "YqMYvFocRdxA"
      },
      "source": [
        "def wrangle(filepath):\n",
        "  df = pd.read_csv(filepath, parse_dates= ['Week Start'], index_col='Week Start').sort_index()\n",
        "  # df.dropna(subset=['Deaths - Cumulative'], inplace = True)\n",
        "  df.drop(columns= 'ZIP Code Location')\n",
        "\n",
        "  categorical_columns = df.select_dtypes('object').columns\n",
        " \n",
        "  binary_cols = [col for col in categorical_columns if df[col].nunique() < 10 ]\n",
        "  \n",
        "\n",
        "  threshold = 10\n",
        "  high_card_cols =  [col for col in categorical_columns\n",
        "                     if df[col].nunique() > threshold ]\n",
        "  df.drop(high_card_cols, axis=1, inplace=True)\n",
        "  \n",
        "  df.dropna(inplace = True)\n",
        "\n",
        "  return df"
      ],
      "execution_count": null,
      "outputs": []
    },
    {
      "cell_type": "code",
      "metadata": {
        "colab": {
          "base_uri": "https://localhost:8080/",
          "height": 688
        },
        "id": "SzSaqDnCRgBt",
        "outputId": "8e84131f-6784-42ec-eae8-a0443e43a0d5"
      },
      "source": [
        "df = wrangle('COVID-19_Cases__Tests__and_Deaths_by_ZIP_Code.csv')\n",
        "df"
      ],
      "execution_count": null,
      "outputs": [
        {
          "output_type": "execute_result",
          "data": {
            "text/html": [
              "<div>\n",
              "<style scoped>\n",
              "    .dataframe tbody tr th:only-of-type {\n",
              "        vertical-align: middle;\n",
              "    }\n",
              "\n",
              "    .dataframe tbody tr th {\n",
              "        vertical-align: top;\n",
              "    }\n",
              "\n",
              "    .dataframe thead th {\n",
              "        text-align: right;\n",
              "    }\n",
              "</style>\n",
              "<table border=\"1\" class=\"dataframe\">\n",
              "  <thead>\n",
              "    <tr style=\"text-align: right;\">\n",
              "      <th></th>\n",
              "      <th>Week Number</th>\n",
              "      <th>Cases - Weekly</th>\n",
              "      <th>Cases - Cumulative</th>\n",
              "      <th>Case Rate - Weekly</th>\n",
              "      <th>Case Rate - Cumulative</th>\n",
              "      <th>Tests - Weekly</th>\n",
              "      <th>Tests - Cumulative</th>\n",
              "      <th>Test Rate - Weekly</th>\n",
              "      <th>Test Rate - Cumulative</th>\n",
              "      <th>Percent Tested Positive - Weekly</th>\n",
              "      <th>Percent Tested Positive - Cumulative</th>\n",
              "      <th>Deaths - Weekly</th>\n",
              "      <th>Deaths - Cumulative</th>\n",
              "      <th>Death Rate - Weekly</th>\n",
              "      <th>Death Rate - Cumulative</th>\n",
              "      <th>Population</th>\n",
              "    </tr>\n",
              "    <tr>\n",
              "      <th>Week Start</th>\n",
              "      <th></th>\n",
              "      <th></th>\n",
              "      <th></th>\n",
              "      <th></th>\n",
              "      <th></th>\n",
              "      <th></th>\n",
              "      <th></th>\n",
              "      <th></th>\n",
              "      <th></th>\n",
              "      <th></th>\n",
              "      <th></th>\n",
              "      <th></th>\n",
              "      <th></th>\n",
              "      <th></th>\n",
              "      <th></th>\n",
              "      <th></th>\n",
              "    </tr>\n",
              "  </thead>\n",
              "  <tbody>\n",
              "    <tr>\n",
              "      <th>2020-03-08</th>\n",
              "      <td>11</td>\n",
              "      <td>6.0</td>\n",
              "      <td>6.0</td>\n",
              "      <td>11.0</td>\n",
              "      <td>11.4</td>\n",
              "      <td>8.0</td>\n",
              "      <td>9</td>\n",
              "      <td>15</td>\n",
              "      <td>17.0</td>\n",
              "      <td>0.0</td>\n",
              "      <td>0.0</td>\n",
              "      <td>0</td>\n",
              "      <td>0</td>\n",
              "      <td>0.0</td>\n",
              "      <td>0.0</td>\n",
              "      <td>52793</td>\n",
              "    </tr>\n",
              "    <tr>\n",
              "      <th>2020-03-08</th>\n",
              "      <td>11</td>\n",
              "      <td>5.0</td>\n",
              "      <td>6.0</td>\n",
              "      <td>5.0</td>\n",
              "      <td>6.4</td>\n",
              "      <td>15.0</td>\n",
              "      <td>16</td>\n",
              "      <td>16</td>\n",
              "      <td>17.0</td>\n",
              "      <td>0.0</td>\n",
              "      <td>0.0</td>\n",
              "      <td>0</td>\n",
              "      <td>0</td>\n",
              "      <td>0.0</td>\n",
              "      <td>0.0</td>\n",
              "      <td>94395</td>\n",
              "    </tr>\n",
              "    <tr>\n",
              "      <th>2020-03-08</th>\n",
              "      <td>11</td>\n",
              "      <td>4.0</td>\n",
              "      <td>5.0</td>\n",
              "      <td>6.0</td>\n",
              "      <td>7.3</td>\n",
              "      <td>9.0</td>\n",
              "      <td>9</td>\n",
              "      <td>13</td>\n",
              "      <td>13.2</td>\n",
              "      <td>0.0</td>\n",
              "      <td>0.0</td>\n",
              "      <td>0</td>\n",
              "      <td>0</td>\n",
              "      <td>0.0</td>\n",
              "      <td>0.0</td>\n",
              "      <td>68096</td>\n",
              "    </tr>\n",
              "    <tr>\n",
              "      <th>2020-03-08</th>\n",
              "      <td>11</td>\n",
              "      <td>14.0</td>\n",
              "      <td>14.0</td>\n",
              "      <td>20.0</td>\n",
              "      <td>19.6</td>\n",
              "      <td>25.0</td>\n",
              "      <td>27</td>\n",
              "      <td>35</td>\n",
              "      <td>37.9</td>\n",
              "      <td>0.2</td>\n",
              "      <td>0.2</td>\n",
              "      <td>0</td>\n",
              "      <td>0</td>\n",
              "      <td>0.0</td>\n",
              "      <td>0.0</td>\n",
              "      <td>71308</td>\n",
              "    </tr>\n",
              "    <tr>\n",
              "      <th>2020-03-08</th>\n",
              "      <td>11</td>\n",
              "      <td>14.0</td>\n",
              "      <td>15.0</td>\n",
              "      <td>20.0</td>\n",
              "      <td>21.4</td>\n",
              "      <td>33.0</td>\n",
              "      <td>37</td>\n",
              "      <td>47</td>\n",
              "      <td>52.8</td>\n",
              "      <td>0.2</td>\n",
              "      <td>0.2</td>\n",
              "      <td>0</td>\n",
              "      <td>0</td>\n",
              "      <td>0.0</td>\n",
              "      <td>0.0</td>\n",
              "      <td>70052</td>\n",
              "    </tr>\n",
              "    <tr>\n",
              "      <th>...</th>\n",
              "      <td>...</td>\n",
              "      <td>...</td>\n",
              "      <td>...</td>\n",
              "      <td>...</td>\n",
              "      <td>...</td>\n",
              "      <td>...</td>\n",
              "      <td>...</td>\n",
              "      <td>...</td>\n",
              "      <td>...</td>\n",
              "      <td>...</td>\n",
              "      <td>...</td>\n",
              "      <td>...</td>\n",
              "      <td>...</td>\n",
              "      <td>...</td>\n",
              "      <td>...</td>\n",
              "      <td>...</td>\n",
              "    </tr>\n",
              "    <tr>\n",
              "      <th>2021-10-24</th>\n",
              "      <td>43</td>\n",
              "      <td>7.0</td>\n",
              "      <td>1551.0</td>\n",
              "      <td>54.0</td>\n",
              "      <td>12050.3</td>\n",
              "      <td>579.0</td>\n",
              "      <td>21467</td>\n",
              "      <td>4498</td>\n",
              "      <td>166785.8</td>\n",
              "      <td>0.0</td>\n",
              "      <td>0.1</td>\n",
              "      <td>0</td>\n",
              "      <td>19</td>\n",
              "      <td>0.0</td>\n",
              "      <td>147.6</td>\n",
              "      <td>12871</td>\n",
              "    </tr>\n",
              "    <tr>\n",
              "      <th>2021-10-24</th>\n",
              "      <td>43</td>\n",
              "      <td>73.0</td>\n",
              "      <td>9992.0</td>\n",
              "      <td>77.0</td>\n",
              "      <td>10585.3</td>\n",
              "      <td>5130.0</td>\n",
              "      <td>204011</td>\n",
              "      <td>5435</td>\n",
              "      <td>216124.8</td>\n",
              "      <td>0.0</td>\n",
              "      <td>0.1</td>\n",
              "      <td>1</td>\n",
              "      <td>135</td>\n",
              "      <td>1.1</td>\n",
              "      <td>143.0</td>\n",
              "      <td>94395</td>\n",
              "    </tr>\n",
              "    <tr>\n",
              "      <th>2021-10-24</th>\n",
              "      <td>43</td>\n",
              "      <td>69.0</td>\n",
              "      <td>10281.0</td>\n",
              "      <td>97.0</td>\n",
              "      <td>14475.6</td>\n",
              "      <td>4218.0</td>\n",
              "      <td>161816</td>\n",
              "      <td>5939</td>\n",
              "      <td>227836.1</td>\n",
              "      <td>0.0</td>\n",
              "      <td>0.1</td>\n",
              "      <td>1</td>\n",
              "      <td>146</td>\n",
              "      <td>1.4</td>\n",
              "      <td>205.6</td>\n",
              "      <td>71023</td>\n",
              "    </tr>\n",
              "    <tr>\n",
              "      <th>2021-10-24</th>\n",
              "      <td>43</td>\n",
              "      <td>1.0</td>\n",
              "      <td>128.0</td>\n",
              "      <td>128.0</td>\n",
              "      <td>16368.3</td>\n",
              "      <td>183.0</td>\n",
              "      <td>8836</td>\n",
              "      <td>23402</td>\n",
              "      <td>1129923.0</td>\n",
              "      <td>0.0</td>\n",
              "      <td>0.0</td>\n",
              "      <td>0</td>\n",
              "      <td>0</td>\n",
              "      <td>0.0</td>\n",
              "      <td>0.0</td>\n",
              "      <td>782</td>\n",
              "    </tr>\n",
              "    <tr>\n",
              "      <th>2021-10-24</th>\n",
              "      <td>43</td>\n",
              "      <td>42.0</td>\n",
              "      <td>4372.0</td>\n",
              "      <td>108.0</td>\n",
              "      <td>11204.8</td>\n",
              "      <td>2131.0</td>\n",
              "      <td>112485</td>\n",
              "      <td>5461</td>\n",
              "      <td>288282.6</td>\n",
              "      <td>0.0</td>\n",
              "      <td>0.0</td>\n",
              "      <td>0</td>\n",
              "      <td>34</td>\n",
              "      <td>0.0</td>\n",
              "      <td>87.1</td>\n",
              "      <td>39019</td>\n",
              "    </tr>\n",
              "  </tbody>\n",
              "</table>\n",
              "<p>4869 rows × 16 columns</p>\n",
              "</div>"
            ],
            "text/plain": [
              "            Week Number  Cases - Weekly  ...  Death Rate - Cumulative  Population\n",
              "Week Start                               ...                                     \n",
              "2020-03-08           11             6.0  ...                      0.0       52793\n",
              "2020-03-08           11             5.0  ...                      0.0       94395\n",
              "2020-03-08           11             4.0  ...                      0.0       68096\n",
              "2020-03-08           11            14.0  ...                      0.0       71308\n",
              "2020-03-08           11            14.0  ...                      0.0       70052\n",
              "...                 ...             ...  ...                      ...         ...\n",
              "2021-10-24           43             7.0  ...                    147.6       12871\n",
              "2021-10-24           43            73.0  ...                    143.0       94395\n",
              "2021-10-24           43            69.0  ...                    205.6       71023\n",
              "2021-10-24           43             1.0  ...                      0.0         782\n",
              "2021-10-24           43            42.0  ...                     87.1       39019\n",
              "\n",
              "[4869 rows x 16 columns]"
            ]
          },
          "metadata": {},
          "execution_count": 4
        }
      ]
    },
    {
      "cell_type": "code",
      "metadata": {
        "id": "gGydPR-CRjuR"
      },
      "source": [
        "target = 'Deaths - Cumulative'\n",
        "y = df[target]\n",
        "X = df.drop(target, axis=1)"
      ],
      "execution_count": null,
      "outputs": []
    },
    {
      "cell_type": "code",
      "metadata": {
        "colab": {
          "base_uri": "https://localhost:8080/",
          "height": 291
        },
        "id": "WMVDKQOtVuZH",
        "outputId": "878a64b8-b2cd-4258-872c-55427de10f5a"
      },
      "source": [
        "y.value_counts(normalize=True).plot(kind='bar')"
      ],
      "execution_count": null,
      "outputs": [
        {
          "output_type": "execute_result",
          "data": {
            "text/plain": [
              "<matplotlib.axes._subplots.AxesSubplot at 0x7f9c2a275c90>"
            ]
          },
          "metadata": {},
          "execution_count": 6
        },
        {
          "output_type": "display_data",
          "data": {
            "image/png": "[encoded data removed]",
            "text/plain": [
              "<Figure size 432x288 with 1 Axes>"
            ]
          },
          "metadata": {
            "needs_background": "light"
          }
        }
      ]
    },
    {
      "cell_type": "code",
      "metadata": {
        "id": "tlaxLv97WLCz"
      },
      "source": [
        "cuttoff = '2021-10-24'\n",
        "\n",
        "mask = X.index < cuttoff\n",
        "X_train, y_train = X.loc[mask], y.loc[mask]\n",
        "X_val, y_val = X.loc[~mask], y.loc[~mask]\n"
      ],
      "execution_count": null,
      "outputs": []
    },
    {
      "cell_type": "code",
      "metadata": {
        "id": "5EckPSnge-VF"
      },
      "source": [
        "\n",
        "from sklearn.datasets import make_classification\n",
        "from sklearn.ensemble import ExtraTreesClassifier\n",
        "from sklearn.metrics import ConfusionMatrixDisplay, confusion_matrix\n",
        "from sklearn.model_selection import train_test_split"
      ],
      "execution_count": null,
      "outputs": []
    },
    {
      "cell_type": "code",
      "metadata": {
        "id": "WbZSVK3cXlv9"
      },
      "source": [
        "# Train/test sets\n",
        "from sklearn.datasets import make_classification\n",
        "from sklearn.model_selection import train_test_split\n",
        "X, y = make_classification(n_samples=1000, n_classes=2, n_features=20, random_state=27)\n",
        "X_train,X_val,y_train, y_val = train_test_split(X,y, test_size=.3, random_state=27)"
      ],
      "execution_count": null,
      "outputs": []
    },
    {
      "cell_type": "code",
      "metadata": {
        "id": "8-HD7-foe4Xz"
      },
      "source": [
        "from sklearn.linear_model import LogisticRegression\n",
        "from sklearn.neighbors import KNeighborsClassifier\n",
        "\n",
        "model1 = LogisticRegression()\n",
        "model2 = KNeighborsClassifier(n_neighbors=4)\n",
        "\n",
        "model1.fit(X_train, y_train)\n",
        "model2.fit(X_train,y_train)\n",
        "\n",
        "pred_prob1 = model1.predict_proba(X_val)\n",
        "pred_prob2 = model2.predict_proba(X_val)"
      ],
      "execution_count": null,
      "outputs": []
    },
    {
      "cell_type": "code",
      "metadata": {
        "colab": {
          "base_uri": "https://localhost:8080/"
        },
        "id": "WrI17BdGfqRs",
        "outputId": "2951ec2e-6a15-4b5e-8eb1-54d6bab4ca4c"
      },
      "source": [
        "from sklearn.metrics import roc_auc_score\n",
        "auc_score1 = roc_auc_score(y_val, pred_prob1[:,1])\n",
        "auc_score2 = roc_auc_score(y_val, pred_prob2[:,1])\n",
        "print(auc_score1, auc_score2)"
      ],
      "execution_count": null,
      "outputs": [
        {
          "output_type": "stream",
          "name": "stdout",
          "text": [
            "0.9762374461979914 0.9233769727403157\n"
          ]
        }
      ]
    },
    {
      "cell_type": "code",
      "metadata": {
        "colab": {
          "base_uri": "https://localhost:8080/"
        },
        "id": "3fo5EacEJnmX",
        "outputId": "56adc98e-2846-4e53-d39c-3062bbcb3e98"
      },
      "source": [
        "print('Training Accuracy (LOGR):', model1.score(X_train, y_train))\n",
        "print('Validation Accuracy (LOGR):', model2.score(X_val, y_val))"
      ],
      "execution_count": null,
      "outputs": [
        {
          "output_type": "stream",
          "name": "stdout",
          "text": [
            "Training Accuracy (LOGR): 0.96\n",
            "Validation Accuracy (LOGR): 0.87\n"
          ]
        }
      ]
    },
    {
      "cell_type": "code",
      "metadata": {
        "colab": {
          "base_uri": "https://localhost:8080/"
        },
        "id": "lftPfM3ENDG6",
        "outputId": "6c6a397a-31c6-45ef-d57f-fce29fa2f175"
      },
      "source": [
        "print('Training Accuracy (RF):', model2.score(X_train, y_train))\n",
        "print('Validation Accuracy (RF):', model2.score(X_val, y_val))"
      ],
      "execution_count": null,
      "outputs": [
        {
          "output_type": "stream",
          "name": "stdout",
          "text": [
            "Training Accuracy (RF): 0.9314285714285714\n",
            "Validation Accuracy (RF): 0.87\n"
          ]
        }
      ]
    },
    {
      "cell_type": "code",
      "metadata": {
        "colab": {
          "base_uri": "https://localhost:8080/",
          "height": 449
        },
        "id": "1G0WrXByMH4r",
        "outputId": "751f07b0-46a6-4059-fd1b-ec89edc2732d"
      },
      "source": [
        "print(classification_report(y_val, model1.predict(X_val)))\n",
        "plot_confusion_matrix(model1, X_val, y_val)"
      ],
      "execution_count": null,
      "outputs": [
        {
          "output_type": "stream",
          "name": "stdout",
          "text": [
            "              precision    recall  f1-score   support\n",
            "\n",
            "           0       0.94      0.97      0.95       164\n",
            "           1       0.96      0.93      0.94       136\n",
            "\n",
            "    accuracy                           0.95       300\n",
            "   macro avg       0.95      0.95      0.95       300\n",
            "weighted avg       0.95      0.95      0.95       300\n",
            "\n"
          ]
        },
        {
          "output_type": "execute_result",
          "data": {
            "text/plain": [
              "<sklearn.metrics._plot.confusion_matrix.ConfusionMatrixDisplay at 0x7f317f4ce750>"
            ]
          },
          "metadata": {},
          "execution_count": 17
        },
        {
          "output_type": "display_data",
          "data": {
            "image/png": "[encoded data removed]",
            "text/plain": [
              "<Figure size 432x288 with 2 Axes>"
            ]
          },
          "metadata": {
            "needs_background": "light"
          }
        }
      ]
    },
    {
      "cell_type": "code",
      "metadata": {
        "colab": {
          "base_uri": "https://localhost:8080/",
          "height": 449
        },
        "id": "u2PfTQ4zLSlS",
        "outputId": "abc40bbe-d64e-488f-f503-875e72792d9e"
      },
      "source": [
        "print(classification_report(y_val, model2.predict(X_val)))\n",
        "plot_confusion_matrix(model1, X_val, y_val)"
      ],
      "execution_count": null,
      "outputs": [
        {
          "output_type": "stream",
          "name": "stdout",
          "text": [
            "              precision    recall  f1-score   support\n",
            "\n",
            "           0       0.85      0.93      0.89       164\n",
            "           1       0.91      0.79      0.85       136\n",
            "\n",
            "    accuracy                           0.87       300\n",
            "   macro avg       0.88      0.86      0.87       300\n",
            "weighted avg       0.87      0.87      0.87       300\n",
            "\n"
          ]
        },
        {
          "output_type": "execute_result",
          "data": {
            "text/plain": [
              "<sklearn.metrics._plot.confusion_matrix.ConfusionMatrixDisplay at 0x7f317d5eafd0>"
            ]
          },
          "metadata": {},
          "execution_count": 21
        },
        {
          "output_type": "display_data",
          "data": {
            "image/png": "[encoded data removed]",
            "text/plain": [
              "<Figure size 432x288 with 2 Axes>"
            ]
          },
          "metadata": {
            "needs_background": "light"
          }
        }
      ]
    },
    {
      "cell_type": "code",
      "metadata": {
        "colab": {
          "base_uri": "https://localhost:8080/",
          "height": 279
        },
        "id": "RvXcKjXMNsot",
        "outputId": "1503b618-75ee-4473-cfb7-ad2188d038c9"
      },
      "source": [
        "lr = plot_roc_curve(model1,\n",
        "               X_val,\n",
        "               y_val,\n",
        "               name='logistic_regression');\n",
        "\n",
        "rf = plot_roc_curve(model2,\n",
        "                   X_val,\n",
        "                   y_val,\n",
        "                   ax=lr.ax_,\n",
        "                    name='KNeighborsClassifier');"
      ],
      "execution_count": null,
      "outputs": [
        {
          "output_type": "display_data",
          "data": {
            "image/png": "[encoded data removed]",
            "text/plain": [
              "<Figure size 432x288 with 1 Axes>"
            ]
          },
          "metadata": {
            "needs_background": "light"
          }
        }
      ]
    },
    {
      "cell_type": "code",
      "metadata": {
        "colab": {
          "base_uri": "https://localhost:8080/"
        },
        "id": "QM74-vQLNU0J",
        "outputId": "aa688166-aa70-478e-9a7b-b5755c207921"
      },
      "source": [
        "roc_auc_score(y_val, model1.predict_proba(X_val)[:,-1])"
      ],
      "execution_count": null,
      "outputs": [
        {
          "output_type": "execute_result",
          "data": {
            "text/plain": [
              "0.9762374461979914"
            ]
          },
          "metadata": {},
          "execution_count": 22
        }
      ]
    },
    {
      "cell_type": "code",
      "metadata": {
        "colab": {
          "base_uri": "https://localhost:8080/"
        },
        "id": "oj4UAL9zNWsX",
        "outputId": "ab3e4cc8-47c1-43ef-8003-0a56be412f2c"
      },
      "source": [
        "roc_auc_score(y_val, model2.predict_proba(X_val)[:,-1])"
      ],
      "execution_count": null,
      "outputs": [
        {
          "output_type": "execute_result",
          "data": {
            "text/plain": [
              "0.9233769727403157"
            ]
          },
          "metadata": {},
          "execution_count": 23
        }
      ]
    },
    {
      "cell_type": "code",
      "metadata": {
        "id": "kl7DsV2NrQdJ"
      },
      "source": [
        "# Get predicted probabilities from model\n",
        "y_pred_proba = model1.predict_proba(X_val)[:, -1]"
      ],
      "execution_count": null,
      "outputs": []
    },
    {
      "cell_type": "code",
      "metadata": {
        "id": "WCCShzmVNdqb"
      },
      "source": [
        "fpr, tpr, thresholds = roc_curve(y_val, y_pred_proba)"
      ],
      "execution_count": null,
      "outputs": []
    },
    {
      "cell_type": "code",
      "metadata": {
        "colab": {
          "base_uri": "https://localhost:8080/",
          "height": 855
        },
        "id": "3Ib8RG7ANiAn",
        "outputId": "3894ac39-c04c-45f5-ef25-6498bff6ab83"
      },
      "source": [
        "# Put data into dictionary\n",
        "data = {'false_pos_rate': fpr,\n",
        "        'true_pos_rate': tpr,\n",
        "        'thresholds': thresholds}\n",
        "\n",
        "pd.DataFrame(data)  "
      ],
      "execution_count": null,
      "outputs": [
        {
          "output_type": "execute_result",
          "data": {
            "text/html": [
              "<div>\n",
              "<style scoped>\n",
              "    .dataframe tbody tr th:only-of-type {\n",
              "        vertical-align: middle;\n",
              "    }\n",
              "\n",
              "    .dataframe tbody tr th {\n",
              "        vertical-align: top;\n",
              "    }\n",
              "\n",
              "    .dataframe thead th {\n",
              "        text-align: right;\n",
              "    }\n",
              "</style>\n",
              "<table border=\"1\" class=\"dataframe\">\n",
              "  <thead>\n",
              "    <tr style=\"text-align: right;\">\n",
              "      <th></th>\n",
              "      <th>false_pos_rate</th>\n",
              "      <th>true_pos_rate</th>\n",
              "      <th>thresholds</th>\n",
              "    </tr>\n",
              "  </thead>\n",
              "  <tbody>\n",
              "    <tr>\n",
              "      <th>0</th>\n",
              "      <td>0.000000</td>\n",
              "      <td>0.000000</td>\n",
              "      <td>2.000000</td>\n",
              "    </tr>\n",
              "    <tr>\n",
              "      <th>1</th>\n",
              "      <td>0.000000</td>\n",
              "      <td>0.007353</td>\n",
              "      <td>1.000000</td>\n",
              "    </tr>\n",
              "    <tr>\n",
              "      <th>2</th>\n",
              "      <td>0.000000</td>\n",
              "      <td>0.875000</td>\n",
              "      <td>0.865589</td>\n",
              "    </tr>\n",
              "    <tr>\n",
              "      <th>3</th>\n",
              "      <td>0.006098</td>\n",
              "      <td>0.875000</td>\n",
              "      <td>0.862106</td>\n",
              "    </tr>\n",
              "    <tr>\n",
              "      <th>4</th>\n",
              "      <td>0.006098</td>\n",
              "      <td>0.897059</td>\n",
              "      <td>0.823200</td>\n",
              "    </tr>\n",
              "    <tr>\n",
              "      <th>5</th>\n",
              "      <td>0.012195</td>\n",
              "      <td>0.897059</td>\n",
              "      <td>0.811359</td>\n",
              "    </tr>\n",
              "    <tr>\n",
              "      <th>6</th>\n",
              "      <td>0.012195</td>\n",
              "      <td>0.904412</td>\n",
              "      <td>0.790116</td>\n",
              "    </tr>\n",
              "    <tr>\n",
              "      <th>7</th>\n",
              "      <td>0.018293</td>\n",
              "      <td>0.904412</td>\n",
              "      <td>0.748529</td>\n",
              "    </tr>\n",
              "    <tr>\n",
              "      <th>8</th>\n",
              "      <td>0.018293</td>\n",
              "      <td>0.926471</td>\n",
              "      <td>0.575045</td>\n",
              "    </tr>\n",
              "    <tr>\n",
              "      <th>9</th>\n",
              "      <td>0.036585</td>\n",
              "      <td>0.926471</td>\n",
              "      <td>0.405628</td>\n",
              "    </tr>\n",
              "    <tr>\n",
              "      <th>10</th>\n",
              "      <td>0.036585</td>\n",
              "      <td>0.933824</td>\n",
              "      <td>0.350010</td>\n",
              "    </tr>\n",
              "    <tr>\n",
              "      <th>11</th>\n",
              "      <td>0.067073</td>\n",
              "      <td>0.933824</td>\n",
              "      <td>0.329661</td>\n",
              "    </tr>\n",
              "    <tr>\n",
              "      <th>12</th>\n",
              "      <td>0.067073</td>\n",
              "      <td>0.948529</td>\n",
              "      <td>0.277482</td>\n",
              "    </tr>\n",
              "    <tr>\n",
              "      <th>13</th>\n",
              "      <td>0.115854</td>\n",
              "      <td>0.948529</td>\n",
              "      <td>0.185401</td>\n",
              "    </tr>\n",
              "    <tr>\n",
              "      <th>14</th>\n",
              "      <td>0.115854</td>\n",
              "      <td>0.955882</td>\n",
              "      <td>0.182305</td>\n",
              "    </tr>\n",
              "    <tr>\n",
              "      <th>15</th>\n",
              "      <td>0.219512</td>\n",
              "      <td>0.955882</td>\n",
              "      <td>0.112057</td>\n",
              "    </tr>\n",
              "    <tr>\n",
              "      <th>16</th>\n",
              "      <td>0.219512</td>\n",
              "      <td>0.963235</td>\n",
              "      <td>0.111542</td>\n",
              "    </tr>\n",
              "    <tr>\n",
              "      <th>17</th>\n",
              "      <td>0.359756</td>\n",
              "      <td>0.963235</td>\n",
              "      <td>0.056145</td>\n",
              "    </tr>\n",
              "    <tr>\n",
              "      <th>18</th>\n",
              "      <td>0.359756</td>\n",
              "      <td>0.970588</td>\n",
              "      <td>0.055722</td>\n",
              "    </tr>\n",
              "    <tr>\n",
              "      <th>19</th>\n",
              "      <td>0.475610</td>\n",
              "      <td>0.970588</td>\n",
              "      <td>0.044030</td>\n",
              "    </tr>\n",
              "    <tr>\n",
              "      <th>20</th>\n",
              "      <td>0.475610</td>\n",
              "      <td>0.977941</td>\n",
              "      <td>0.041137</td>\n",
              "    </tr>\n",
              "    <tr>\n",
              "      <th>21</th>\n",
              "      <td>0.487805</td>\n",
              "      <td>0.977941</td>\n",
              "      <td>0.039628</td>\n",
              "    </tr>\n",
              "    <tr>\n",
              "      <th>22</th>\n",
              "      <td>0.487805</td>\n",
              "      <td>0.992647</td>\n",
              "      <td>0.036450</td>\n",
              "    </tr>\n",
              "    <tr>\n",
              "      <th>23</th>\n",
              "      <td>0.829268</td>\n",
              "      <td>0.992647</td>\n",
              "      <td>0.005087</td>\n",
              "    </tr>\n",
              "    <tr>\n",
              "      <th>24</th>\n",
              "      <td>0.829268</td>\n",
              "      <td>1.000000</td>\n",
              "      <td>0.004668</td>\n",
              "    </tr>\n",
              "    <tr>\n",
              "      <th>25</th>\n",
              "      <td>1.000000</td>\n",
              "      <td>1.000000</td>\n",
              "      <td>0.000032</td>\n",
              "    </tr>\n",
              "  </tbody>\n",
              "</table>\n",
              "</div>"
            ],
            "text/plain": [
              "    false_pos_rate  true_pos_rate  thresholds\n",
              "0         0.000000       0.000000    2.000000\n",
              "1         0.000000       0.007353    1.000000\n",
              "2         0.000000       0.875000    0.865589\n",
              "3         0.006098       0.875000    0.862106\n",
              "4         0.006098       0.897059    0.823200\n",
              "5         0.012195       0.897059    0.811359\n",
              "6         0.012195       0.904412    0.790116\n",
              "7         0.018293       0.904412    0.748529\n",
              "8         0.018293       0.926471    0.575045\n",
              "9         0.036585       0.926471    0.405628\n",
              "10        0.036585       0.933824    0.350010\n",
              "11        0.067073       0.933824    0.329661\n",
              "12        0.067073       0.948529    0.277482\n",
              "13        0.115854       0.948529    0.185401\n",
              "14        0.115854       0.955882    0.182305\n",
              "15        0.219512       0.955882    0.112057\n",
              "16        0.219512       0.963235    0.111542\n",
              "17        0.359756       0.963235    0.056145\n",
              "18        0.359756       0.970588    0.055722\n",
              "19        0.475610       0.970588    0.044030\n",
              "20        0.475610       0.977941    0.041137\n",
              "21        0.487805       0.977941    0.039628\n",
              "22        0.487805       0.992647    0.036450\n",
              "23        0.829268       0.992647    0.005087\n",
              "24        0.829268       1.000000    0.004668\n",
              "25        1.000000       1.000000    0.000032"
            ]
          },
          "metadata": {},
          "execution_count": 26
        }
      ]
    },
    {
      "cell_type": "code",
      "metadata": {
        "id": "eLn2bG9tNioD"
      },
      "source": [
        ""
      ],
      "execution_count": null,
      "outputs": []
    }
  ]
}